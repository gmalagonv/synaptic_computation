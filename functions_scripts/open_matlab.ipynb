{
 "cells": [
  {
   "cell_type": "code",
   "execution_count": 1,
   "metadata": {},
   "outputs": [],
   "source": [
    "import scipy.io\n",
    "import h5py\n",
    "import numpy as np\n",
    "from open_matlab import matlab2python\n",
    "from timeit import default_timer as timer"
   ]
  },
  {
   "cell_type": "code",
   "execution_count": 3,
   "metadata": {},
   "outputs": [
    {
     "name": "stdout",
     "output_type": "stream",
     "text": [
      "['A', 'A_pstd', 'SDa', 'SDb', 'SDc', 'SDpreF', 'asynch2nd', 'asynchAlloc', 'c', 'c_pstd', 'df', 'dfCrit', 'dist2Reclust', 'dist2centFAll', 'dist2centFAsynch', 'dist2centFSynch', 'dist2centFSynch2nd', 'dist2centPhyAll', 'dist2centPhyAsynch', 'dist2centPhySynch', 'dist2centPhySynch2nd', 'distFromLast', 'frame', 'frameRelat', 'permanence', 's', 'stimNum', 'synID', 'synSigma', 'synch', 'tTrcx', 'tTrcxy', 'tTrcxyAft1', 'tTrcxyAft2', 'tTrcxyBef', 'tTrcy', 'timeFromLast', 'traceDt', 'traceInt', 'traceIntPeak', 'traceIntrat1', 'traceIntrat2', 'traceLoc', 'traceLocN', 'traceLocPeak', 'traceLocrat1', 'traceLocrat2', 'val', 'x', 'x_pstd', 'y', 'y_pstd'] 52\n"
     ]
    }
   ],
   "source": [
    "# print the available fields \n",
    "fields = matlab2python(1, 'ct20_test', None)\n",
    "print(fields, len(fields))\n"
   ]
  },
  {
   "cell_type": "code",
   "execution_count": 4,
   "metadata": {},
   "outputs": [
    {
     "name": "stdout",
     "output_type": "stream",
     "text": [
      "OPENING : /home/gerard/nextcloud/analysis/localization/summary/ct20_test.mat\n",
      "0 synID\n",
      "1 x\n",
      "2 y\n",
      "3 timeFromLast\n",
      "(68238, 4)\n"
     ]
    }
   ],
   "source": [
    "#use the desired fields\n",
    "data = matlab2python(0, 'ct20_test',  ['synID','x','y', 'timeFromLast'])\n",
    "print(data.shape)"
   ]
  },
  {
   "cell_type": "code",
   "execution_count": 5,
   "metadata": {},
   "outputs": [
    {
     "name": "stdout",
     "output_type": "stream",
     "text": [
      "[5.85060000e+04 2.10154416e+01 2.00624993e+01            nan]\n",
      "58506.0\n",
      "[5.85060000e+04 5.85060000e+04 5.85060000e+04 ... 1.11021137e+09\n",
      " 1.11021137e+09 1.11021137e+09]\n"
     ]
    }
   ],
   "source": [
    "print(data[0])\n",
    "print(data[0,0])\n",
    "print(data[:,0])"
   ]
  },
  {
   "cell_type": "code",
   "execution_count": 2,
   "metadata": {},
   "outputs": [
    {
     "name": "stdout",
     "output_type": "stream",
     "text": [
      "OPENING : /home/gerard/nextcloud/analysis/localization/summary/ct20_test.mat\n",
      "0 dist2centFAll\n",
      "long field, not included  tTrcx\n",
      "(68238,)\n"
     ]
    }
   ],
   "source": [
    "#use ALL the fields\n",
    "data_10 = matlab2python(0, 'ct20_test',  fields)\n",
    "print(data_10.shape)"
   ]
  },
  {
   "cell_type": "code",
   "execution_count": 4,
   "metadata": {},
   "outputs": [
    {
     "name": "stdout",
     "output_type": "stream",
     "text": [
      "OPENING : /home/gerard/nextcloud/analysis/localization/summary/ct20_test.mat\n",
      "long field, not included  traceLoc\n",
      "(0,)\n"
     ]
    }
   ],
   "source": [
    "data_all = matlab2python(0, 'ct20_test',  ['traceLoc'])\n",
    "print(data_all.shape)"
   ]
  },
  {
   "cell_type": "code",
   "execution_count": 126,
   "metadata": {},
   "outputs": [
    {
     "name": "stdout",
     "output_type": "stream",
     "text": [
      "24.65767366199725\n"
     ]
    }
   ],
   "source": [
    "start = timer()\n",
    "# Replace 'file_path' with the path to your MATLAB file.\n",
    "file_path = '/media/data/nextcloud/analysis/summary/ct20_test.mat' #/home/gerard/analysis/from_matlab/summary/ct20_test.mat'\n",
    "fields2call = ['synID','x','y', 'timeFromLast']\n",
    "file_name = '/ct20_test/allEv/'\n",
    "\n",
    "# Open the MATLAB file using h5py\n",
    "with h5py.File(file_path, 'r') as file:\n",
    "    # Access the 'allEv' dataset\n",
    "    allEv_data = np.array([])#[]\n",
    "\n",
    "    for idx, name in enumerate(fields2call):\n",
    "\n",
    "        allEv_dataset = file[file_name + name]\n",
    "\n",
    "        # Convert the references to strings\n",
    "        allEv_references = [ref.item() for ref in allEv_dataset]\n",
    "\n",
    "        carrier =  []\n",
    "        for ref in allEv_references:\n",
    "            item = file[ref]\n",
    "            carrier.append(item[:])\n",
    "        carrier = np.squeeze(np.array(carrier))\n",
    "\n",
    "        if allEv_data.size == 0:\n",
    "           allEv_data = np.append(allEv_data, carrier)\n",
    "\n",
    "        else:\n",
    "            allEv_data = np.column_stack((allEv_data, carrier))\n",
    "        \n",
    "end = timer()\n",
    "print(end - start)"
   ]
  },
  {
   "cell_type": "code",
   "execution_count": 121,
   "metadata": {},
   "outputs": [
    {
     "name": "stdout",
     "output_type": "stream",
     "text": [
      "<class 'numpy.ndarray'>\n",
      "(68238, 3)\n",
      "58506.0 21.01544156606587 20.0624993068723\n"
     ]
    }
   ],
   "source": [
    "print(type(allEv_data))\n",
    "print(np.shape(allEv_data))\n",
    "print(allEv_data[0,0], allEv_data[0,1], allEv_data[0,2])"
   ]
  }
 ],
 "metadata": {
  "kernelspec": {
   "display_name": "jupyter",
   "language": "python",
   "name": "jupyter"
  },
  "language_info": {
   "codemirror_mode": {
    "name": "ipython",
    "version": 3
   },
   "file_extension": ".py",
   "mimetype": "text/x-python",
   "name": "python",
   "nbconvert_exporter": "python",
   "pygments_lexer": "ipython3",
   "version": "3.10.9"
  },
  "orig_nbformat": 4
 },
 "nbformat": 4,
 "nbformat_minor": 2
}
