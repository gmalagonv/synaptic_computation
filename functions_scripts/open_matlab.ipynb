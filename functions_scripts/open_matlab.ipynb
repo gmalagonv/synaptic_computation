{
 "cells": [
  {
   "cell_type": "code",
   "execution_count": 125,
   "metadata": {},
   "outputs": [],
   "source": [
    "import scipy.io\n",
    "import h5py\n",
    "import numpy as np\n",
    "from timeit import default_timer as timer"
   ]
  },
  {
   "cell_type": "code",
   "execution_count": 62,
   "metadata": {},
   "outputs": [
    {
     "name": "stdout",
     "output_type": "stream",
     "text": [
      "<class 'h5py._hl.group.Group'>\n"
     ]
    },
    {
     "data": {
      "text/plain": [
       "['A',\n",
       " 'A_pstd',\n",
       " 'SDa',\n",
       " 'SDb',\n",
       " 'SDc',\n",
       " 'SDpreF',\n",
       " 'asynch2nd',\n",
       " 'asynchAlloc',\n",
       " 'c',\n",
       " 'c_pstd',\n",
       " 'df',\n",
       " 'dfCrit',\n",
       " 'dist2Reclust',\n",
       " 'dist2centFAll',\n",
       " 'dist2centFAsynch',\n",
       " 'dist2centFSynch',\n",
       " 'dist2centFSynch2nd',\n",
       " 'dist2centPhyAll',\n",
       " 'dist2centPhyAsynch',\n",
       " 'dist2centPhySynch',\n",
       " 'dist2centPhySynch2nd',\n",
       " 'distFromLast',\n",
       " 'frame',\n",
       " 'frameRelat',\n",
       " 'permanence',\n",
       " 's',\n",
       " 'stimNum',\n",
       " 'synID',\n",
       " 'synSigma',\n",
       " 'synch',\n",
       " 'tTrcx',\n",
       " 'tTrcxy',\n",
       " 'tTrcxyAft1',\n",
       " 'tTrcxyAft2',\n",
       " 'tTrcxyBef',\n",
       " 'tTrcy',\n",
       " 'timeFromLast',\n",
       " 'traceDt',\n",
       " 'traceInt',\n",
       " 'traceIntPeak',\n",
       " 'traceIntrat1',\n",
       " 'traceIntrat2',\n",
       " 'traceLoc',\n",
       " 'traceLocN',\n",
       " 'traceLocPeak',\n",
       " 'traceLocrat1',\n",
       " 'traceLocrat2',\n",
       " 'val',\n",
       " 'x',\n",
       " 'x_pstd',\n",
       " 'y',\n",
       " 'y_pstd']"
      ]
     },
     "execution_count": 62,
     "metadata": {},
     "output_type": "execute_result"
    }
   ],
   "source": [
    "file_path = '/home/gerard/analysis/from_matlab/summary/ct20_test.mat'\n",
    "file = h5py.File(file_path, 'r')\n",
    "#list(f.items())\n",
    "#list(f['/cjdata'].keys())\n",
    "list(file['/ct20_test'].keys())\n",
    "\n",
    "allEv = (file['/ct20_test/allEv'])\n",
    "print(type(allEv))\n",
    "list(file['/ct20_test/allEv'].keys())\n",
    "#allEv2 = (file['/ct20_test/allEv/A'][:])\n",
    "#print(allEv2)\n",
    "\n",
    "\n"
   ]
  },
  {
   "cell_type": "code",
   "execution_count": 126,
   "metadata": {},
   "outputs": [
    {
     "name": "stdout",
     "output_type": "stream",
     "text": [
      "24.65767366199725\n"
     ]
    }
   ],
   "source": [
    "start = timer()\n",
    "# Replace 'file_path' with the path to your MATLAB file.\n",
    "file_path = '/media/data/nextcloud/analysis/summary/ct20_test.mat' #/home/gerard/analysis/from_matlab/summary/ct20_test.mat'\n",
    "fields2call = ['synID','x','y', 'timeFromLast']\n",
    "file_name = '/ct20_test/allEv/'\n",
    "\n",
    "# Open the MATLAB file using h5py\n",
    "with h5py.File(file_path, 'r') as file:\n",
    "    # Access the 'allEv' dataset\n",
    "    allEv_data = np.array([])#[]\n",
    "\n",
    "    for idx, name in enumerate(fields2call):\n",
    "\n",
    "        allEv_dataset = file[file_name + name]\n",
    "\n",
    "        # Convert the references to strings\n",
    "        allEv_references = [ref.item() for ref in allEv_dataset]\n",
    "\n",
    "        carrier =  []\n",
    "        for ref in allEv_references:\n",
    "            item = file[ref]\n",
    "            carrier.append(item[:])\n",
    "        carrier = np.squeeze(np.array(carrier))\n",
    "\n",
    "        if allEv_data.size == 0:\n",
    "           allEv_data = np.append(allEv_data, carrier)\n",
    "\n",
    "        else:\n",
    "            allEv_data = np.column_stack((allEv_data, carrier))\n",
    "        \n",
    "end = timer()\n",
    "print(end - start)"
   ]
  },
  {
   "cell_type": "code",
   "execution_count": 121,
   "metadata": {},
   "outputs": [
    {
     "name": "stdout",
     "output_type": "stream",
     "text": [
      "<class 'numpy.ndarray'>\n",
      "(68238, 3)\n",
      "58506.0 21.01544156606587 20.0624993068723\n"
     ]
    }
   ],
   "source": [
    "print(type(allEv_data))\n",
    "print(np.shape(allEv_data))\n",
    "print(allEv_data[0,0], allEv_data[0,1], allEv_data[0,2])"
   ]
  }
 ],
 "metadata": {
  "kernelspec": {
   "display_name": "jupyter",
   "language": "python",
   "name": "jupyter"
  },
  "language_info": {
   "codemirror_mode": {
    "name": "ipython",
    "version": 3
   },
   "file_extension": ".py",
   "mimetype": "text/x-python",
   "name": "python",
   "nbconvert_exporter": "python",
   "pygments_lexer": "ipython3",
   "version": "3.10.9"
  },
  "orig_nbformat": 4
 },
 "nbformat": 4,
 "nbformat_minor": 2
}
