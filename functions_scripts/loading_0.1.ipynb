{
 "cells": [
  {
   "cell_type": "code",
   "execution_count": 1,
   "metadata": {},
   "outputs": [],
   "source": [
    "from functions_load import call_remote_file_ssh\n",
    "import getpass\n"
   ]
  },
  {
   "cell_type": "code",
   "execution_count": 2,
   "metadata": {},
   "outputs": [],
   "source": [
    "passphrase = getpass.getpass(prompt=\"Enter passphrase for private key: \")\n",
    "\n",
    "ssh_credentials = {\n",
    "    'hostname': '186.154.6.93',\n",
    "    #'port': 22,\n",
    "    'username': 'gerard',\n",
    "     'private_key_path' : '/home/gerard/.ssh/id_rsa',\n",
    "     'passphrase' : passphrase\n",
    "}"
   ]
  },
  {
   "cell_type": "code",
   "execution_count": 4,
   "metadata": {},
   "outputs": [
    {
     "name": "stdout",
     "output_type": "stream",
     "text": [
      "Connected to 186.154.6.93 using SSH key authentication\n",
      "script will be copied:\n",
      "local script path : /home/gerard/nextcloud/analysis/synaptic_computation/functions_scripts/functions_load.py\n",
      "remote script path : /home/gerard/nextcloud/analysis/synaptic_computation/functions_scripts/functions_load.py\n",
      "command 2 execute: source /home/gerard/anaconda3/bin/activate jupyter && python3 /home/gerard/nextcloud/analysis/synaptic_computation/functions_scripts/functions_load.py  1 ct20_test allEv synID,x,y,frame,frameRelat,timeFromLast,distFromLast\n",
      "Command executed successfully\n",
      "Output:\n",
      "Executing matlab2python with arguments: actionFlag=1, file_name='ct20_test', section='allEv', fields2call=['synID', 'x', 'y', 'frame', 'frameRelat', 'timeFromLast', 'distFromLast'], results_path='/home/gerard/nextcloud/analysis/synaptic_computation/results/ct20_test.csv'\n",
      "/media/data/analysis/summary ct20_test\n",
      "MATLAB file: /media/data/analysis/summary/ct20_test.mat\n",
      "OPENING : /media/data/analysis/summary/ct20_test.mat\n",
      "0 synID\n",
      "1 x\n",
      "2 y\n",
      "3 frame\n",
      "4 frameRelat\n",
      "5 timeFromLast\n",
      "6 distFromLast\n",
      "file was saved remotelly as: /home/gerard/nextcloud/analysis/synaptic_computation/results/ct20_test.csv\n",
      "\n",
      "file was saved locally as: /home/gerard/nextcloud/analysis/synaptic_computation/results/ct20_test.csv\n"
     ]
    }
   ],
   "source": [
    "\n",
    "\n",
    "paths = {\n",
    "    'local_script_path' : '/home/gerard/nextcloud/analysis/synaptic_computation/functions_scripts/functions_load.py',\n",
    "    'remote_script_path' : '/home/gerard/nextcloud/analysis/synaptic_computation/functions_scripts/functions_load.py',\n",
    "    'conda_env':'jupyter',\n",
    "    #'function_name':'matlab2python',\n",
    "    #'args':[\"1\", \"'ct20_test'\", \"'all_Ev'\", \"'synID'\"]\n",
    "    'args': [\"1\", \n",
    "             \"ct20_test\", \n",
    "             \"allEv\", \n",
    "             \"synID,x,y,frame,frameRelat,timeFromLast,distFromLast\",\n",
    "             #\"--results_path /home/gerard/nextcloud/analysis/synaptic_computation/results/ct20_test.csv\" # change it only when the desired path is different\n",
    "             ] \n",
    "}\n",
    "\n",
    "val = call_remote_file_ssh(ssh_credentials, paths)\n",
    "\n"
   ]
  },
  {
   "cell_type": "code",
   "execution_count": 3,
   "metadata": {},
   "outputs": [
    {
     "name": "stdout",
     "output_type": "stream",
     "text": [
      "Connected to 186.154.6.93 using SSH key authentication\n",
      "script will be copied:\n",
      "local script path : /home/gerard/nextcloud/analysis/synaptic_computation/functions_scripts/functions_load.py\n",
      "remote script path : /home/gerard/nextcloud/analysis/synaptic_computation/functions_scripts/functions_load.py\n",
      "command 2 execute: source /home/gerard/anaconda3/bin/activate jupyter && python3 /home/gerard/nextcloud/analysis/synaptic_computation/functions_scripts/functions_load.py  1 NOr_02.21.2020_Data1 allEv synID,x,y,frame,frameRelat,timeFromLast,distFromLast --file_path /media/data/analysis/2020/02.21.2020\n",
      "Command executed successfully\n",
      "Output:\n",
      "Executing matlab2python with arguments: actionFlag=1, file_name='NOr_02.21.2020_Data1', section='allEv', fields2call=['synID', 'x', 'y', 'frame', 'frameRelat', 'timeFromLast', 'distFromLast'], results_path='/home/gerard/nextcloud/analysis/synaptic_computation/results/NOr_02.21.2020_Data1.csv'\n",
      "/media/data/analysis/2020/02.21.2020 NOr_02.21.2020_Data1\n",
      "MATLAB file: /media/data/analysis/2020/02.21.2020/NOr_02.21.2020_Data1.mat\n",
      "OPENING : /media/data/analysis/2020/02.21.2020/NOr_02.21.2020_Data1.mat\n",
      "0 synID\n",
      "1 x\n",
      "2 y\n",
      "3 frame\n",
      "4 frameRelat\n",
      "5 timeFromLast\n",
      "6 distFromLast\n",
      "file was saved remotelly as: /home/gerard/nextcloud/analysis/synaptic_computation/results/NOr_02.21.2020_Data1.csv\n",
      "\n",
      "file was saved locally as: /home/gerard/nextcloud/analysis/synaptic_computation/results/NOr_02.21.2020_Data1.csv\n"
     ]
    }
   ],
   "source": [
    "paths = {\n",
    "    'local_script_path' : '/home/gerard/nextcloud/analysis/synaptic_computation/functions_scripts/functions_load.py',\n",
    "    'remote_script_path' : '/home/gerard/nextcloud/analysis/synaptic_computation/functions_scripts/functions_load.py',\n",
    "    'conda_env':'jupyter',\n",
    "    #'function_name':'matlab2python',\n",
    "    #'args':[\"1\", \"'ct20_test'\", \"'all_Ev'\", \"'synID'\"]\n",
    "    'args': [\"1\", \n",
    "             \"NOr_02.21.2020_Data1\", \n",
    "             \"allEv\",\n",
    "             \"synID,x,y,frame,frameRelat,timeFromLast,distFromLast\", \n",
    "             \"--file_path /media/data/analysis/2020/02.21.2020\",\n",
    "             #\"--results_path None\",\n",
    "             \n",
    "             ] \n",
    "}\n",
    "\n",
    "\n",
    "# def matlab2python(\n",
    "#                   actionFlag, \n",
    "#                   file_name, \n",
    "#                   section,\n",
    "#                   fields2call, \n",
    "#                   #file_path='/media/data/analysis/2020/02.21.2020',\n",
    "#                   file_path='/media/data/analysis/summary',\n",
    "#                   results_path = None# \n",
    "\n",
    "#                   ):\n",
    "\n",
    "val = call_remote_file_ssh(ssh_credentials, paths)\n",
    "\n",
    "#python3 functions.py 1 ct20_test allEv synID,x,y,timeFromLast --filename2save results.csv --file_path /media/data/analysis/summary\n"
   ]
  },
  {
   "cell_type": "code",
   "execution_count": null,
   "metadata": {},
   "outputs": [],
   "source": []
  }
 ],
 "metadata": {
  "kernelspec": {
   "display_name": "jupyter",
   "language": "python",
   "name": "python3"
  },
  "language_info": {
   "codemirror_mode": {
    "name": "ipython",
    "version": 3
   },
   "file_extension": ".py",
   "mimetype": "text/x-python",
   "name": "python",
   "nbconvert_exporter": "python",
   "pygments_lexer": "ipython3",
   "version": "3.10.9"
  }
 },
 "nbformat": 4,
 "nbformat_minor": 2
}
