{
 "cells": [
  {
   "cell_type": "code",
   "execution_count": 1,
   "metadata": {},
   "outputs": [],
   "source": [
    "from functions_load import call_remote_file_ssh\n",
    "import getpass\n"
   ]
  },
  {
   "cell_type": "code",
   "execution_count": 2,
   "metadata": {},
   "outputs": [],
   "source": [
    "passphrase = getpass.getpass(prompt=\"Enter passphrase for private key: \")\n",
    "\n",
    "ssh_credentials = {\n",
    "    'hostname': '186.154.6.93',\n",
    "    #'port': 22,\n",
    "    'username': 'gerard',\n",
    "     'private_key_path' : '/home/gerard/.ssh/id_rsa',\n",
    "     'passphrase' : passphrase\n",
    "}"
   ]
  },
  {
   "cell_type": "code",
   "execution_count": 6,
   "metadata": {},
   "outputs": [
    {
     "name": "stdout",
     "output_type": "stream",
     "text": [
      "Connected to 186.154.6.93 using SSH key authentication\n",
      "script will be copied:\n",
      "local script path : /home/gerard/nextcloud/analysis/synaptic_computation/functions_scripts/functions_load.py\n",
      "remote script path : /home/gerard/nextcloud/analysis/synaptic_computation/functions_scripts/functions_load.py\n",
      "command 2 execute: source /home/gerard/anaconda3/bin/activate jupyter && python3 /home/gerard/nextcloud/analysis/synaptic_computation/functions_scripts/functions_load.py  0 ct20_test allEv i\n",
      "Command executed successfully\n",
      "Output:\n",
      "Executing matlab2python with arguments: actionFlag=0, file_name='ct20_test', section='allEv', fields2call=['i'], results_path='/home/gerard/nextcloud/analysis/synaptic_computation/results/results.csv'\n",
      "MATLAB file: /media/data/analysis/summary/ct20_test.mat\n",
      "['A', 'A_pstd', 'SDa', 'SDb', 'SDc', 'SDpreF', 'asynch2nd', 'asynchAlloc', 'c', 'c_pstd', 'df', 'dfCrit', 'dist2Reclust', 'dist2centFAll', 'dist2centFAsynch', 'dist2centFSynch', 'dist2centFSynch2nd', 'dist2centPhyAll', 'dist2centPhyAsynch', 'dist2centPhySynch', 'dist2centPhySynch2nd', 'distFromLast', 'frame', 'frameRelat', 'permanence', 's', 'stimNum', 'synID', 'synSigma', 'synch', 'tTrcx', 'tTrcxy', 'tTrcxyAft1', 'tTrcxyAft2', 'tTrcxyBef', 'tTrcy', 'timeFromLast', 'traceDt', 'traceInt', 'traceIntPeak', 'traceIntrat1', 'traceIntrat2', 'traceLoc', 'traceLocN', 'traceLocPeak', 'traceLocrat1', 'traceLocrat2', 'val', 'x', 'x_pstd', 'y', 'y_pstd']\n",
      "\n"
     ]
    }
   ],
   "source": [
    "paths = {\n",
    "    'local_script_path' : '/home/gerard/nextcloud/analysis/synaptic_computation/functions_scripts/functions_load.py',\n",
    "    'remote_script_path' : '/home/gerard/nextcloud/analysis/synaptic_computation/functions_scripts/functions_load.py',\n",
    "    'conda_env':'jupyter',\n",
    "    #'function_name':'matlab2python',\n",
    "    #'args':[\"1\", \"'ct20_test'\", \"'all_Ev'\", \"'synID'\"]\n",
    "    'args': [\"0\", \n",
    "             \"ct20_test\", \n",
    "             \"allEv\", \n",
    "             \"i\"\n",
    "             \n",
    "             ] \n",
    "}\n",
    "\n",
    "val = call_remote_file_ssh(ssh_credentials, paths)\n",
    "\n",
    "#python3 functions.py 1 ct20_test allEv synID,x,y,timeFromLast --filename2save results.csv --file_path /media/data/analysis/summary\n"
   ]
  },
  {
   "cell_type": "code",
   "execution_count": 4,
   "metadata": {},
   "outputs": [
    {
     "name": "stdout",
     "output_type": "stream",
     "text": [
      "Connected to 186.154.6.93 using SSH key authentication\n",
      "script will be copied:\n",
      "local script path : /home/gerard/nextcloud/analysis/synaptic_computation/functions_scripts/functions_load.py\n",
      "remote script path : /home/gerard/nextcloud/analysis/synaptic_computation/functions_scripts/functions_load.py\n",
      "command 2 execute: source /home/gerard/anaconda3/bin/activate jupyter && python3 /home/gerard/nextcloud/analysis/synaptic_computation/functions_scripts/functions_load.py  1 ct20_test allEv synID,x,y,frame,frameRelat,timeFromLast,distFromLast --results_path /home/gerard/nextcloud/analysis/synaptic_computation/results/results2.csv\n",
      "Command executed successfully\n",
      "Output:\n",
      "Executing matlab2python with arguments: actionFlag=1, file_name='ct20_test', section='allEv', fields2call=['synID', 'x', 'y', 'frame', 'frameRelat', 'timeFromLast', 'distFromLast'], results_path='/home/gerard/nextcloud/analysis/synaptic_computation/results/results2.csv'\n",
      "MATLAB file: /media/data/analysis/summary/ct20_test.mat\n",
      "OPENING : /media/data/analysis/summary/ct20_test.mat\n",
      "0 synID\n",
      "1 x\n",
      "2 y\n",
      "3 frame\n",
      "4 frameRelat\n",
      "5 timeFromLast\n",
      "6 distFromLast\n",
      "file was saved remotelly as: /home/gerard/nextcloud/analysis/synaptic_computation/results/results2.csv\n",
      "\n",
      "file was saved locally as: /home/gerard/nextcloud/analysis/synaptic_computation/results/results2.csv\n"
     ]
    }
   ],
   "source": [
    "\n",
    "\n",
    "paths = {\n",
    "    'local_script_path' : '/home/gerard/nextcloud/analysis/synaptic_computation/functions_scripts/functions_load.py',\n",
    "    'remote_script_path' : '/home/gerard/nextcloud/analysis/synaptic_computation/functions_scripts/functions_load.py',\n",
    "    'conda_env':'jupyter',\n",
    "    #'function_name':'matlab2python',\n",
    "    #'args':[\"1\", \"'ct20_test'\", \"'all_Ev'\", \"'synID'\"]\n",
    "    'args': [\"1\", \n",
    "             \"ct20_test\", \n",
    "             \"allEv\", \n",
    "             \"synID,x,y,frame,frameRelat,timeFromLast,distFromLast\",\n",
    "             \"--results_path /home/gerard/nextcloud/analysis/synaptic_computation/results/results2.csv\" \n",
    "             ] \n",
    "}\n",
    "\n",
    "val = call_remote_file_ssh(ssh_credentials, paths)\n",
    "\n"
   ]
  },
  {
   "cell_type": "code",
   "execution_count": null,
   "metadata": {},
   "outputs": [
    {
     "name": "stdout",
     "output_type": "stream",
     "text": [
      "Connected to 186.154.6.93 using SSH key authentication\n",
      "script will be copied:\n",
      "local script path : /home/gerard/nextcloud/analysis/synaptic_computation/functions_scripts/functions.py\n",
      "remote script path : /home/gerard/nextcloud/analysis/synaptic_computation/functions_scripts/functions.py\n",
      "command 2 execute: source /home/gerard/anaconda3/bin/activate jupyter && python3 /home/gerard/nextcloud/analysis/synaptic_computation/functions_scripts/functions.py  0 ct20_test perSyn i\n",
      "Command executed successfully\n",
      "Output:\n",
      "Executing matlab2python with arguments: actionFlag=0, file_name='ct20_test', section='perSyn', fields2call=['i'], results_path='/home/gerard/nextcloud/analysis/synaptic_computation/results/results.csv'\n",
      "MATLAB file: /media/data/analysis/summary/ct20_test.mat\n",
      "['Amp', 'NumAsynch2', 'NumAsynchAllo', 'NumSynch', 'NumclustAll', 'NumclustAsynch', 'NumclustSynch', 'NumclustSynch2nd', 'areaAll', 'areaAsynch', 'areaSynch', 'areaSynch2nd', 'bckgrd', 'columnNum', 'columnNumCorr', 'df_tail', 'rowNum', 'rowNumCorr', 'sigma', 'snr', 'synID', 'trace']\n",
      "\n"
     ]
    }
   ],
   "source": [
    "paths = {\n",
    "    'local_script_path' : '/home/gerard/nextcloud/analysis/synaptic_computation/functions_scripts/functions.py',\n",
    "    'remote_script_path' : '/home/gerard/nextcloud/analysis/synaptic_computation/functions_scripts/functions.py',\n",
    "    'conda_env':'jupyter',\n",
    "    #'function_name':'matlab2python',\n",
    "    #'args':[\"1\", \"'ct20_test'\", \"'all_Ev'\", \"'synID'\"]\n",
    "    'args': [\"0\", \n",
    "             \"ct20_test\", \n",
    "             \"perSyn\", \n",
    "             \"i\"\n",
    "             \n",
    "             ] \n",
    "}\n",
    "\n",
    "val = call_remote_file_ssh(ssh_credentials, paths)\n",
    "\n",
    "#python3 functions.py 1 ct20_test allEv synID,x,y,timeFromLast --filename2save results.csv --file_path /media/data/analysis/summary\n"
   ]
  },
  {
   "cell_type": "code",
   "execution_count": 6,
   "metadata": {},
   "outputs": [
    {
     "name": "stdout",
     "output_type": "stream",
     "text": [
      "Connected to 186.154.6.93 using SSH key authentication\n",
      "script will be copied:\n",
      "local script path : /home/gerard/nextcloud/analysis/synaptic_computation/functions_scripts/functions.py\n",
      "remote script path : /home/gerard/nextcloud/analysis/synaptic_computation/functions_scripts/functions.py\n",
      "command 2 execute: source /home/gerard/anaconda3/bin/activate jupyter && python3 /home/gerard/nextcloud/analysis/synaptic_computation/functions_scripts/functions.py  0 NOr_02.21.2020_Data1 perSyn i --results_path / --file_path /media/data/analysis/2020/02.21.2020\n",
      "Command executed successfully\n",
      "Output:\n",
      "Executing matlab2python with arguments: actionFlag=0, file_name='NOr_02.21.2020_Data1', section='perSyn', fields2call=['i'], results_path='/'\n",
      "MATLAB file: /media/data/analysis/2020/02.21.2020/NOr_02.21.2020_Data1.mat\n",
      "['Amp', 'Mdist2centFAll', 'Mdist2centFAsynch', 'Mdist2centFSynch', 'Mdist2centFSynch2nd', 'Mdist2centPhyAll', 'Mdist2centPhyAsynch', 'Mdist2centPhySynch', 'Mdist2centPhySynch2nd', 'NumAsynch2', 'NumAsynchAllo', 'NumSynch', 'NumclustAll', 'NumclustAsynch', 'NumclustSynch', 'NumclustSynch2nd', 'areaAll', 'areaAsynch', 'areaSynch', 'areaSynch2nd', 'bckgrd', 'centerFXAll', 'centerFXAsynch', 'centerFXSynch', 'centerFXSynch2nd', 'centerFYAll', 'centerFYAsynch', 'centerFYSynch', 'centerFYSynch2nd', 'centerPhyXAll', 'centerPhyXAsynch', 'centerPhyXSynch', 'centerPhyXSynch2nd', 'centerPhyYAll', 'centerPhyYAsynch', 'centerPhyYSynch', 'centerPhyYSynch2nd', 'clustAll', 'clustAsynch', 'clustSynch', 'clustSynch2nd', 'columnNum', 'columnNumCorr', 'rowNum', 'rowNumCorr', 'sigma', 'smallMovieXY', 'synID', 'traceDtAsynch2', 'traceDtAsynchA', 'traceDtSynch']\n",
      "\n"
     ]
    }
   ],
   "source": [
    "paths = {\n",
    "    'local_script_path' : '/home/gerard/nextcloud/analysis/synaptic_computation/functions_scripts/functions.py',\n",
    "    'remote_script_path' : '/home/gerard/nextcloud/analysis/synaptic_computation/functions_scripts/functions.py',\n",
    "    'conda_env':'jupyter',\n",
    "    #'function_name':'matlab2python',\n",
    "    #'args':[\"1\", \"'ct20_test'\", \"'all_Ev'\", \"'synID'\"]\n",
    "    'args': [\"0\", \n",
    "             \"NOr_02.21.2020_Data1\", \n",
    "             \"perSyn\",\n",
    "             \"i\", \n",
    "             \"--results_path /\",\n",
    "             \"--file_path /media/data/analysis/2020/02.21.2020\"\n",
    "             \n",
    "             ] \n",
    "}\n",
    "\n",
    "val = call_remote_file_ssh(ssh_credentials, paths)\n",
    "\n",
    "#python3 functions.py 1 ct20_test allEv synID,x,y,timeFromLast --filename2save results.csv --file_path /media/data/analysis/summary\n"
   ]
  },
  {
   "cell_type": "code",
   "execution_count": 3,
   "metadata": {},
   "outputs": [
    {
     "name": "stdout",
     "output_type": "stream",
     "text": [
      "0 trial\n",
      "Waiting for connection...\n",
      "Connected to 186.154.6.93 using SSH key authentication\n",
      "script will be copied:\n",
      "local script path : /home/gerard/nextcloud/analysis/synaptic_computation/functions_scripts/functions.py\n",
      "remote script path : /home/gerard/nextcloud/analysis/synaptic_computation/functions_scripts/functions.py\n",
      "command 2 execute: source /home/gerard/anaconda3/bin/activate jupyter && python3 /home/gerard/nextcloud/analysis/synaptic_computation/functions_scripts/functions.py  1 NOr_02.21.2020_Data1 perSyn clustSynch --results_path /home/gerard/nextcloud/analysis/synaptic_computation/results/results2.csv --file_path /media/data/analysis/2020/02.21.2020\n",
      "Command executed successfully\n",
      "Output:\n",
      "Executing matlab2python with arguments: actionFlag=1, file_name='NOr_02.21.2020_Data1', section='perSyn', fields2call=['clustSynch'], results_path='/home/gerard/nextcloud/analysis/synaptic_computation/results/results2.csv'\n",
      "MATLAB file: /media/data/analysis/2020/02.21.2020/NOr_02.21.2020_Data1.mat\n",
      "OPENING : /media/data/analysis/2020/02.21.2020/NOr_02.21.2020_Data1.mat\n",
      "<HDF5 dataset \"centroid\": shape (5, 1), type \"|O\">\n",
      "<HDF5 dataset \"loc\": shape (5, 1), type \"|O\">\n",
      "<HDF5 dataset \"maxRad\": shape (5, 1), type \"|O\">\n",
      "<HDF5 dataset \"centroid\": shape (6, 1), type \"|O\">\n",
      "<HDF5 dataset \"loc\": shape (6, 1), type \"|O\">\n",
      "<HDF5 dataset \"maxRad\": shape (6, 1), type \"|O\">\n",
      "<HDF5 dataset \"centroid\": shape (5, 1), type \"|O\">\n",
      "<HDF5 dataset \"loc\": shape (5, 1), type \"|O\">\n",
      "<HDF5 dataset \"maxRad\": shape (5, 1), type \"|O\">\n",
      "<HDF5 dataset \"centroid\": shape (10, 1), type \"|O\">\n",
      "<HDF5 dataset \"loc\": shape (10, 1), type \"|O\">\n",
      "<HDF5 dataset \"maxRad\": shape (10, 1), type \"|O\">\n",
      "<HDF5 dataset \"centroid\": shape (6, 1), type \"|O\">\n",
      "<HDF5 dataset \"loc\": shape (6, 1), type \"|O\">\n",
      "<HDF5 dataset \"maxRad\": shape (6, 1), type \"|O\">\n",
      "<HDF5 dataset \"centroid\": shape (6, 1), type \"|O\">\n",
      "<HDF5 dataset \"loc\": shape (6, 1), type \"|O\">\n",
      "<HDF5 dataset \"maxRad\": shape (6, 1), type \"|O\">\n",
      "<HDF5 dataset \"centroid\": shape (8, 1), type \"|O\">\n",
      "<HDF5 dataset \"loc\": shape (8, 1), type \"|O\">\n",
      "<HDF5 dataset \"maxRad\": shape (8, 1), type \"|O\">\n",
      "<HDF5 dataset \"centroid\": shape (8, 1), type \"|O\">\n",
      "<HDF5 dataset \"loc\": shape (8, 1), type \"|O\">\n",
      "<HDF5 dataset \"maxRad\": shape (8, 1), type \"|O\">\n",
      "<HDF5 dataset \"centroid\": shape (8, 1), type \"|O\">\n",
      "<HDF5 dataset \"loc\": shape (8, 1), type \"|O\">\n",
      "<HDF5 dataset \"maxRad\": shape (8, 1), type \"|O\">\n",
      "<HDF5 dataset \"centroid\": shape (8, 1), type \"|O\">\n",
      "<HDF5 dataset \"loc\": shape (8, 1), type \"|O\">\n",
      "<HDF5 dataset \"maxRad\": shape (8, 1), type \"|O\">\n",
      "<HDF5 dataset \"centroid\": shape (3, 1), type \"|O\">\n",
      "<HDF5 dataset \"loc\": shape (3, 1), type \"|O\">\n",
      "<HDF5 dataset \"maxRad\": shape (3, 1), type \"|O\">\n",
      "<HDF5 dataset \"centroid\": shape (5, 1), type \"|O\">\n",
      "<HDF5 dataset \"loc\": shape (5, 1), type \"|O\">\n",
      "<HDF5 dataset \"maxRad\": shape (5, 1), type \"|O\">\n",
      "<HDF5 dataset \"centroid\": shape (7, 1), type \"|O\">\n",
      "<HDF5 dataset \"loc\": shape (7, 1), type \"|O\">\n",
      "<HDF5 dataset \"maxRad\": shape (7, 1), type \"|O\">\n",
      "<HDF5 dataset \"centroid\": shape (5, 1), type \"|O\">\n",
      "<HDF5 dataset \"loc\": shape (5, 1), type \"|O\">\n",
      "<HDF5 dataset \"maxRad\": shape (5, 1), type \"|O\">\n",
      "<HDF5 dataset \"centroid\": shape (12, 1), type \"|O\">\n",
      "<HDF5 dataset \"loc\": shape (12, 1), type \"|O\">\n",
      "<HDF5 dataset \"maxRad\": shape (12, 1), type \"|O\">\n",
      "<HDF5 dataset \"centroid\": shape (6, 1), type \"|O\">\n",
      "<HDF5 dataset \"loc\": shape (6, 1), type \"|O\">\n",
      "<HDF5 dataset \"maxRad\": shape (6, 1), type \"|O\">\n",
      "<HDF5 dataset \"centroid\": shape (5, 1), type \"|O\">\n",
      "<HDF5 dataset \"loc\": shape (5, 1), type \"|O\">\n",
      "<HDF5 dataset \"maxRad\": shape (5, 1), type \"|O\">\n",
      "<HDF5 dataset \"centroid\": shape (5, 1), type \"|O\">\n",
      "<HDF5 dataset \"loc\": shape (5, 1), type \"|O\">\n",
      "<HDF5 dataset \"maxRad\": shape (5, 1), type \"|O\">\n",
      "<HDF5 dataset \"centroid\": shape (9, 1), type \"|O\">\n",
      "<HDF5 dataset \"loc\": shape (9, 1), type \"|O\">\n",
      "<HDF5 dataset \"maxRad\": shape (9, 1), type \"|O\">\n",
      "<HDF5 dataset \"centroid\": shape (11, 1), type \"|O\">\n",
      "<HDF5 dataset \"loc\": shape (11, 1), type \"|O\">\n",
      "<HDF5 dataset \"maxRad\": shape (11, 1), type \"|O\">\n",
      "<HDF5 dataset \"centroid\": shape (5, 1), type \"|O\">\n",
      "<HDF5 dataset \"loc\": shape (5, 1), type \"|O\">\n",
      "<HDF5 dataset \"maxRad\": shape (5, 1), type \"|O\">\n",
      "<HDF5 dataset \"centroid\": shape (5, 1), type \"|O\">\n",
      "<HDF5 dataset \"loc\": shape (5, 1), type \"|O\">\n",
      "<HDF5 dataset \"maxRad\": shape (5, 1), type \"|O\">\n",
      "file was saved remotelly as: /home/gerard/nextcloud/analysis/synaptic_computation/results/results2.csv\n",
      "\n",
      "file was saved locally as: /home/gerard/nextcloud/analysis/synaptic_computation/results/results2.csv\n"
     ]
    }
   ],
   "source": [
    "paths = {\n",
    "    'local_script_path' : '/home/gerard/nextcloud/analysis/synaptic_computation/functions_scripts/functions.py',\n",
    "    'remote_script_path' : '/home/gerard/nextcloud/analysis/synaptic_computation/functions_scripts/functions.py',\n",
    "    'conda_env':'jupyter',\n",
    "    #'function_name':'matlab2python',\n",
    "    #'args':[\"1\", \"'ct20_test'\", \"'all_Ev'\", \"'synID'\"]\n",
    "    'args': [\"1\", \n",
    "             \"NOr_02.21.2020_Data1\", \n",
    "             \"perSyn\",\n",
    "             \"clustSynch\", \n",
    "             \"--results_path /home/gerard/nextcloud/analysis/synaptic_computation/results/results2.csv\",\n",
    "             \"--file_path /media/data/analysis/2020/02.21.2020\"\n",
    "             \n",
    "             ] \n",
    "}\n",
    "\n",
    "val = call_remote_file_ssh(ssh_credentials, paths)\n",
    "\n",
    "#python3 functions.py 1 ct20_test allEv synID,x,y,timeFromLast --filename2save results.csv --file_path /media/data/analysis/summary\n"
   ]
  },
  {
   "cell_type": "code",
   "execution_count": null,
   "metadata": {},
   "outputs": [],
   "source": []
  }
 ],
 "metadata": {
  "kernelspec": {
   "display_name": "jupyter",
   "language": "python",
   "name": "python3"
  },
  "language_info": {
   "codemirror_mode": {
    "name": "ipython",
    "version": 3
   },
   "file_extension": ".py",
   "mimetype": "text/x-python",
   "name": "python",
   "nbconvert_exporter": "python",
   "pygments_lexer": "ipython3",
   "version": "3.10.9"
  }
 },
 "nbformat": 4,
 "nbformat_minor": 2
}
